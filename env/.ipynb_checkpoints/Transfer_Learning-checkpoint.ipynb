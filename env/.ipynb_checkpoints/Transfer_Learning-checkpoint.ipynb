{
 "cells": [
  {
   "cell_type": "code",
   "execution_count": 3,
   "metadata": {
    "scrolled": false
   },
   "outputs": [],
   "source": [
    "from keras.applications.vgg16 import VGG16\n",
    "from keras.applications.vgg16 import preprocess_input\n",
    "from keras.applications.vgg16 import decode_predictions\n",
    "\n",
    "from keras.preprocessing.image import load_img\n",
    "from keras.preprocessing.image import img_to_array, array_to_img\n",
    "\n",
    "from keras import Model\n",
    "from keras.layers import Dense, Flatten\n",
    "from keras.optimizers import SGD\n",
    "from keras.utils import to_categorical\n",
    "\n",
    "from sklearn.model_selection import train_test_split"
   ]
  },
  {
   "cell_type": "code",
   "execution_count": 4,
   "metadata": {},
   "outputs": [],
   "source": [
    "vgg = VGG16()"
   ]
  },
  {
   "cell_type": "code",
   "execution_count": 5,
   "metadata": {},
   "outputs": [
    {
     "name": "stdout",
     "output_type": "stream",
     "text": [
      "_________________________________________________________________\n",
      "Layer (type)                 Output Shape              Param #   \n",
      "=================================================================\n",
      "input_2 (InputLayer)         (None, 224, 224, 3)       0         \n",
      "_________________________________________________________________\n",
      "block1_conv1 (Conv2D)        (None, 224, 224, 64)      1792      \n",
      "_________________________________________________________________\n",
      "block1_conv2 (Conv2D)        (None, 224, 224, 64)      36928     \n",
      "_________________________________________________________________\n",
      "block1_pool (MaxPooling2D)   (None, 112, 112, 64)      0         \n",
      "_________________________________________________________________\n",
      "block2_conv1 (Conv2D)        (None, 112, 112, 128)     73856     \n",
      "_________________________________________________________________\n",
      "block2_conv2 (Conv2D)        (None, 112, 112, 128)     147584    \n",
      "_________________________________________________________________\n",
      "block2_pool (MaxPooling2D)   (None, 56, 56, 128)       0         \n",
      "_________________________________________________________________\n",
      "block3_conv1 (Conv2D)        (None, 56, 56, 256)       295168    \n",
      "_________________________________________________________________\n",
      "block3_conv2 (Conv2D)        (None, 56, 56, 256)       590080    \n",
      "_________________________________________________________________\n",
      "block3_conv3 (Conv2D)        (None, 56, 56, 256)       590080    \n",
      "_________________________________________________________________\n",
      "block3_pool (MaxPooling2D)   (None, 28, 28, 256)       0         \n",
      "_________________________________________________________________\n",
      "block4_conv1 (Conv2D)        (None, 28, 28, 512)       1180160   \n",
      "_________________________________________________________________\n",
      "block4_conv2 (Conv2D)        (None, 28, 28, 512)       2359808   \n",
      "_________________________________________________________________\n",
      "block4_conv3 (Conv2D)        (None, 28, 28, 512)       2359808   \n",
      "_________________________________________________________________\n",
      "block4_pool (MaxPooling2D)   (None, 14, 14, 512)       0         \n",
      "_________________________________________________________________\n",
      "block5_conv1 (Conv2D)        (None, 14, 14, 512)       2359808   \n",
      "_________________________________________________________________\n",
      "block5_conv2 (Conv2D)        (None, 14, 14, 512)       2359808   \n",
      "_________________________________________________________________\n",
      "block5_conv3 (Conv2D)        (None, 14, 14, 512)       2359808   \n",
      "_________________________________________________________________\n",
      "block5_pool (MaxPooling2D)   (None, 7, 7, 512)         0         \n",
      "_________________________________________________________________\n",
      "flatten (Flatten)            (None, 25088)             0         \n",
      "_________________________________________________________________\n",
      "fc1 (Dense)                  (None, 4096)              102764544 \n",
      "_________________________________________________________________\n",
      "fc2 (Dense)                  (None, 4096)              16781312  \n",
      "_________________________________________________________________\n",
      "predictions (Dense)          (None, 1000)              4097000   \n",
      "=================================================================\n",
      "Total params: 138,357,544\n",
      "Trainable params: 138,357,544\n",
      "Non-trainable params: 0\n",
      "_________________________________________________________________\n",
      "None\n"
     ]
    }
   ],
   "source": [
    "print(vgg.summary())"
   ]
  },
  {
   "cell_type": "code",
   "execution_count": 9,
   "metadata": {},
   "outputs": [],
   "source": [
    "# load an image from file\n",
    "image = load_img('../img/mug.jpg', target_size=(224, 224))"
   ]
  },
  {
   "cell_type": "code",
   "execution_count": 10,
   "metadata": {},
   "outputs": [
    {
     "data": {
      "image/png": "[encoded data removed]",
      "text/plain": [
       "<PIL.Image.Image image mode=RGB size=224x224 at 0x1B600256898>"
      ]
     },
     "execution_count": 10,
     "metadata": {},
     "output_type": "execute_result"
    }
   ],
   "source": [
    "image"
   ]
  },
  {
   "cell_type": "code",
   "execution_count": 11,
   "metadata": {},
   "outputs": [],
   "source": [
    "# convert the image pixels to a numpy array\n",
    "image = img_to_array(image)"
   ]
  },
  {
   "cell_type": "code",
   "execution_count": 12,
   "metadata": {},
   "outputs": [
    {
     "data": {
      "text/plain": [
       "(224, 224, 3)"
      ]
     },
     "execution_count": 12,
     "metadata": {},
     "output_type": "execute_result"
    }
   ],
   "source": [
    "image.shape"
   ]
  },
  {
   "cell_type": "code",
   "execution_count": 13,
   "metadata": {},
   "outputs": [
    {
     "data": {
      "text/plain": [
       "numpy.ndarray"
      ]
     },
     "execution_count": 13,
     "metadata": {},
     "output_type": "execute_result"
    }
   ],
   "source": [
    "type(image)"
   ]
  },
  {
   "cell_type": "code",
   "execution_count": 14,
   "metadata": {},
   "outputs": [
    {
     "data": {
      "text/plain": [
       "array([[[255., 255., 255.],\n",
       "        [255., 255., 255.],\n",
       "        [255., 255., 255.],\n",
       "        ...,\n",
       "        [255., 255., 255.],\n",
       "        [255., 255., 255.],\n",
       "        [255., 255., 255.]],\n",
       "\n",
       "       [[255., 255., 255.],\n",
       "        [255., 255., 255.],\n",
       "        [255., 255., 255.],\n",
       "        ...,\n",
       "        [255., 255., 255.],\n",
       "        [255., 255., 255.],\n",
       "        [255., 255., 255.]]], dtype=float32)"
      ]
     },
     "execution_count": 14,
     "metadata": {},
     "output_type": "execute_result"
    }
   ],
   "source": [
    "image[:2]"
   ]
  },
  {
   "cell_type": "code",
   "execution_count": 15,
   "metadata": {},
   "outputs": [],
   "source": [
    "# reshape data for the model\n",
    "image = image.reshape(\n",
    "    (1, image.shape[0], image.shape[1], image.shape[2]))"
   ]
  },
  {
   "cell_type": "code",
   "execution_count": 16,
   "metadata": {},
   "outputs": [
    {
     "data": {
      "text/plain": [
       "(1, 224, 224, 3)"
      ]
     },
     "execution_count": 16,
     "metadata": {},
     "output_type": "execute_result"
    }
   ],
   "source": [
    "image.shape"
   ]
  },
  {
   "cell_type": "code",
   "execution_count": 17,
   "metadata": {},
   "outputs": [],
   "source": [
    "# prepare the image for the VGG model\n",
    "image = preprocess_input(image)"
   ]
  },
  {
   "cell_type": "code",
   "execution_count": 18,
   "metadata": {},
   "outputs": [
    {
     "data": {
      "text/plain": [
       "array([[[151.061  , 138.22101, 131.32   ],\n",
       "        [151.061  , 138.22101, 131.32   ],\n",
       "        [151.061  , 138.22101, 131.32   ],\n",
       "        ...,\n",
       "        [151.061  , 138.22101, 131.32   ],\n",
       "        [151.061  , 138.22101, 131.32   ],\n",
       "        [151.061  , 138.22101, 131.32   ]],\n",
       "\n",
       "       [[151.061  , 138.22101, 131.32   ],\n",
       "        [151.061  , 138.22101, 131.32   ],\n",
       "        [151.061  , 138.22101, 131.32   ],\n",
       "        ...,\n",
       "        [151.061  , 138.22101, 131.32   ],\n",
       "        [151.061  , 138.22101, 131.32   ],\n",
       "        [151.061  , 138.22101, 131.32   ]]], dtype=float32)"
      ]
     },
     "execution_count": 18,
     "metadata": {},
     "output_type": "execute_result"
    }
   ],
   "source": [
    "image[0, :2]"
   ]
  },
  {
   "cell_type": "code",
   "execution_count": 19,
   "metadata": {},
   "outputs": [],
   "source": [
    "# predict the probability across all output classes\n",
    "y_pred = vgg.predict(image)"
   ]
  },
  {
   "cell_type": "code",
   "execution_count": 20,
   "metadata": {},
   "outputs": [
    {
     "data": {
      "text/plain": [
       "(1, 1000)"
      ]
     },
     "execution_count": 20,
     "metadata": {},
     "output_type": "execute_result"
    }
   ],
   "source": [
    "y_pred.shape"
   ]
  },
  {
   "cell_type": "code",
   "execution_count": 21,
   "metadata": {},
   "outputs": [
    {
     "data": {
      "text/plain": [
       "array([1.1224267e-08, 7.7827941e-08, 9.1825092e-10], dtype=float32)"
      ]
     },
     "execution_count": 21,
     "metadata": {},
     "output_type": "execute_result"
    }
   ],
   "source": [
    "y_pred[0, :3]\n"
   ]
  },
  {
   "cell_type": "code",
   "execution_count": 25,
   "metadata": {},
   "outputs": [
    {
     "name": "stdout",
     "output_type": "stream",
     "text": [
      "class: coffee_mug, proba 62.75%\n"
     ]
    }
   ],
   "source": [
    "# convert the probabilities to class labels\n",
    "label = decode_predictions(y_pred)\n",
    "# retrieve the most likely result, e.g. highest probability\n",
    "label = label[0][0]\n",
    "# print the classification\n",
    "print(\"class: {}, proba {:.2f}%\".format(label[1], label[2]*100))"
   ]
  },
  {
   "cell_type": "code",
   "execution_count": 26,
   "metadata": {},
   "outputs": [
    {
     "data": {
      "text/plain": [
       "[[('n03063599', 'coffee_mug', 0.6274737),\n",
       "  ('n07930864', 'cup', 0.30253103),\n",
       "  ('n03950228', 'pitcher', 0.018699935),\n",
       "  ('n03733805', 'measuring_cup', 0.015958836),\n",
       "  ('n07920052', 'espresso', 0.0070127705)]]"
      ]
     },
     "execution_count": 26,
     "metadata": {},
     "output_type": "execute_result"
    }
   ],
   "source": [
    "decode_predictions(y_pred)"
   ]
  },
  {
   "cell_type": "code",
   "execution_count": 27,
   "metadata": {},
   "outputs": [],
   "source": [
    "# cette fonction fait la même chose que les cellules précédentes,\n",
    "# mais en version plus propre\n",
    "\n",
    "def predict_image_using_vgg(img_path, vgg):\n",
    "    \"\"\"\n",
    "    Open image, convert it to an array, and run predictions\n",
    "    using a trained model.\n",
    "    \"\"\"\n",
    "    # load an image from file\n",
    "    image = load_img(img_path, target_size=(224, 224))\n",
    "    # convert the image pixels to a numpy array\n",
    "    image = img_to_array(image)\n",
    "    # reshape data for the model\n",
    "    image = image.reshape(\n",
    "        (1, image.shape[0], image.shape[1], image.shape[2]))\n",
    "    image = preprocess_input(image)\n",
    "    y_pred = vgg.predict(image)\n",
    "    labels = decode_predictions(y_pred)\n",
    "    label = labels[0][0]\n",
    "    print(\"class: {}, proba {:.2f}%\".format(label[1], label[2]*100))\n",
    "    return labels"
   ]
  },
  {
   "cell_type": "code",
   "execution_count": 28,
   "metadata": {},
   "outputs": [
    {
     "name": "stdout",
     "output_type": "stream",
     "text": [
      "class: coffee_mug, proba 62.75%\n"
     ]
    },
    {
     "data": {
      "text/plain": [
       "[[('n03063599', 'coffee_mug', 0.6274737),\n",
       "  ('n07930864', 'cup', 0.30253103),\n",
       "  ('n03950228', 'pitcher', 0.018699935),\n",
       "  ('n03733805', 'measuring_cup', 0.015958836),\n",
       "  ('n07920052', 'espresso', 0.0070127705)]]"
      ]
     },
     "execution_count": 28,
     "metadata": {},
     "output_type": "execute_result"
    }
   ],
   "source": [
    "predict_image_using_vgg('../img/mug.jpg', vgg)"
   ]
  },
  {
   "cell_type": "markdown",
   "metadata": {},
   "source": [
    "### Creating a dataset"
   ]
  },
  {
   "cell_type": "code",
   "execution_count": 29,
   "metadata": {},
   "outputs": [
    {
     "ename": "FileNotFoundError",
     "evalue": "[WinError 3] Le chemin d’accès spécifié est introuvable: '../img/logos'",
     "output_type": "error",
     "traceback": [
      "\u001b[1;31m---------------------------------------------------------------------------\u001b[0m",
      "\u001b[1;31mFileNotFoundError\u001b[0m                         Traceback (most recent call last)",
      "\u001b[1;32m<ipython-input-29-9edf8ff42d74>\u001b[0m in \u001b[0;36m<module>\u001b[1;34m\u001b[0m\n\u001b[0;32m      7\u001b[0m \u001b[0mall_labels\u001b[0m \u001b[1;33m=\u001b[0m \u001b[1;33m[\u001b[0m\u001b[1;33m]\u001b[0m\u001b[1;33m\u001b[0m\u001b[0m\n\u001b[0;32m      8\u001b[0m \u001b[0mfilenames\u001b[0m \u001b[1;33m=\u001b[0m \u001b[1;33m[\u001b[0m\u001b[1;33m]\u001b[0m\u001b[1;33m\u001b[0m\u001b[0m\n\u001b[1;32m----> 9\u001b[1;33m \u001b[1;32mfor\u001b[0m \u001b[0mclass_id\u001b[0m\u001b[1;33m,\u001b[0m \u001b[0mlabel\u001b[0m \u001b[1;32min\u001b[0m \u001b[0menumerate\u001b[0m\u001b[1;33m(\u001b[0m\u001b[0mos\u001b[0m\u001b[1;33m.\u001b[0m\u001b[0mlistdir\u001b[0m\u001b[1;33m(\u001b[0m\u001b[1;34m'../img/logos'\u001b[0m\u001b[1;33m)\u001b[0m\u001b[1;33m)\u001b[0m\u001b[1;33m:\u001b[0m\u001b[1;33m\u001b[0m\u001b[0m\n\u001b[0m\u001b[0;32m     10\u001b[0m     \u001b[0mprint\u001b[0m\u001b[1;33m(\u001b[0m\u001b[0mclass_id\u001b[0m\u001b[1;33m,\u001b[0m \u001b[0mlabel\u001b[0m\u001b[1;33m)\u001b[0m\u001b[1;33m\u001b[0m\u001b[0m\n\u001b[0;32m     11\u001b[0m     \u001b[1;32mfor\u001b[0m \u001b[0mfilename\u001b[0m \u001b[1;32min\u001b[0m \u001b[0mglob\u001b[0m\u001b[1;33m.\u001b[0m\u001b[0mglob\u001b[0m\u001b[1;33m(\u001b[0m\u001b[1;34m'../img/logos/{}/*'\u001b[0m\u001b[1;33m.\u001b[0m\u001b[0mformat\u001b[0m\u001b[1;33m(\u001b[0m\u001b[0mlabel\u001b[0m\u001b[1;33m)\u001b[0m\u001b[1;33m)\u001b[0m\u001b[1;33m:\u001b[0m\u001b[1;33m\u001b[0m\u001b[0m\n",
      "\u001b[1;31mFileNotFoundError\u001b[0m: [WinError 3] Le chemin d’accès spécifié est introuvable: '../img/logos'"
     ]
    }
   ],
   "source": [
    "import os\n",
    "import glob\n",
    "import numpy as np\n",
    "\n",
    "all_images = []\n",
    "image_arrays = []\n",
    "all_labels = []\n",
    "filenames = []\n",
    "for class_id, label in enumerate(os.listdir('../img/animaux')):\n",
    "    print(class_id, label)\n",
    "    for filename in glob.glob('../img/animaux/{}/*'.format(label)):\n",
    "        filenames.append(filename)\n",
    "        im = load_img(filename, target_size=(224, 224))\n",
    "        all_images.append(im)\n",
    "        preprocessed = preprocess_input(img_to_array(im))\n",
    "        image_arrays.append(preprocessed)\n",
    "        all_labels.append(class_id)\n",
    "X = np.array(image_arrays)\n",
    "Y = to_categorical(np.array(all_labels))"
   ]
  },
  {
   "cell_type": "markdown",
   "metadata": {},
   "source": [
    "#### TODO: refator this function, \"def create_dataset(folder): .... return X, Y\""
   ]
  },
  {
   "cell_type": "code",
   "execution_count": null,
   "metadata": {},
   "outputs": [],
   "source": [
    "def create_dataset(folder):\n",
    "    all_images = []\n",
    "    image_arrays = []\n",
    "    all_labels = []\n",
    "    filenames = []\n",
    "    for class_id, label in enumerate(os.listdir(folder)):\n",
    "        print(class_id, label)\n",
    "        for filename in glob.glob(folder+'/{}/*'.format(label)):\n",
    "            filenames.append(filename)\n",
    "            im = load_img(filename, target_size=(224, 224))\n",
    "            all_images.append(im)\n",
    "            preprocessed = preprocess_input(img_to_array(im))\n",
    "            image_arrays.append(preprocessed)\n",
    "            all_labels.append(class_id)\n",
    "    X = np.array(image_arrays)\n",
    "    Y = to_categorical(np.array(all_labels))\n",
    "    return (X,Y)"
   ]
  },
  {
   "cell_type": "code",
   "execution_count": null,
   "metadata": {},
   "outputs": [],
   "source": [
    "len(all_images), len(all_labels), len(image_arrays)"
   ]
  },
  {
   "cell_type": "code",
   "execution_count": null,
   "metadata": {},
   "outputs": [],
   "source": [
    "X.shape, Y.shape"
   ]
  },
  {
   "cell_type": "code",
   "execution_count": null,
   "metadata": {},
   "outputs": [],
   "source": [
    "img_id = 11\n",
    "predict_image_using_vgg(filenames[img_id], vgg)\n",
    "all_images[img_id]"
   ]
  },
  {
   "cell_type": "markdown",
   "metadata": {},
   "source": [
    "### Transfer learning"
   ]
  },
  {
   "cell_type": "code",
   "execution_count": 3,
   "metadata": {},
   "outputs": [
    {
     "ename": "NameError",
     "evalue": "name 'VGG16' is not defined",
     "output_type": "error",
     "traceback": [
      "\u001b[1;31m---------------------------------------------------------------------------\u001b[0m",
      "\u001b[1;31mNameError\u001b[0m                                 Traceback (most recent call last)",
      "\u001b[1;32m<ipython-input-3-2a61158eccb7>\u001b[0m in \u001b[0;36m<module>\u001b[1;34m\u001b[0m\n\u001b[0;32m      1\u001b[0m \u001b[1;31m# Charger VGG-16 pré-entraîné sur ImageNet\u001b[0m\u001b[1;33m\u001b[0m\u001b[1;33m\u001b[0m\u001b[1;33m\u001b[0m\u001b[0m\n\u001b[0;32m      2\u001b[0m \u001b[1;31m# mais sans les couches fully-connected\u001b[0m\u001b[1;33m\u001b[0m\u001b[1;33m\u001b[0m\u001b[1;33m\u001b[0m\u001b[0m\n\u001b[1;32m----> 3\u001b[1;33m vgg_cut = VGG16(weights=\"imagenet\", include_top=False,\n\u001b[0m\u001b[0;32m      4\u001b[0m                 input_shape=(224, 224, 3))\n\u001b[0;32m      5\u001b[0m \u001b[0mx\u001b[0m \u001b[1;33m=\u001b[0m \u001b[0mvgg_cut\u001b[0m\u001b[1;33m.\u001b[0m\u001b[0moutput\u001b[0m\u001b[1;33m\u001b[0m\u001b[1;33m\u001b[0m\u001b[0m\n",
      "\u001b[1;31mNameError\u001b[0m: name 'VGG16' is not defined"
     ]
    }
   ],
   "source": [
    "# Charger VGG-16 pré-entraîné sur ImageNet\n",
    "# mais sans les couches fully-connected\n",
    "vgg_cut = VGG16(weights=\"imagenet\", include_top=False,\n",
    "                input_shape=(224, 224, 3))\n",
    "x = vgg_cut.output\n",
    "# transform matrix into 1-d vector\n",
    "x = Flatten()(x)\n",
    "x = Dense(30, activation='relu')(x) \n",
    "x = Dense(9, activation='softmax')(x)  \n",
    "\n",
    "# TODO parametrer le nombre de classes"
   ]
  },
  {
   "cell_type": "code",
   "execution_count": null,
   "metadata": {},
   "outputs": [],
   "source": [
    "custom_model = Model(inputs=vgg_cut.input, outputs=x)"
   ]
  },
  {
   "cell_type": "code",
   "execution_count": null,
   "metadata": {},
   "outputs": [],
   "source": [
    "# stratégie de Transfer Learning: extraction de features\n",
    "# On entraîne seulement le nouveau classifieur,\n",
    "# et on ne ré-entraîne pas les autres couches.\n",
    "# On utilise les autres couches uniquement pour \n",
    "# extraire des features des images\n",
    "for layer in custom_model.layers[:-2]:\n",
    "    layer.trainable = False"
   ]
  },
  {
   "cell_type": "code",
   "execution_count": null,
   "metadata": {},
   "outputs": [],
   "source": [
    "custom_model.summary()"
   ]
  },
  {
   "cell_type": "code",
   "execution_count": null,
   "metadata": {},
   "outputs": [],
   "source": [
    "# Compiler le modèle \n",
    "custom_model.compile(\n",
    "    loss=\"categorical_crossentropy\",\n",
    "    optimizer=SGD(lr=0.0001, momentum=0.9),\n",
    "    metrics=[\"accuracy\"])"
   ]
  },
  {
   "cell_type": "code",
   "execution_count": null,
   "metadata": {},
   "outputs": [],
   "source": [
    "# Entraîner sur toutes les données\n",
    "# (X_train, Y_train)\n",
    "custom_model.fit(X, Y,\n",
    "                 epochs=3, batch_size=5)"
   ]
  },
  {
   "cell_type": "markdown",
   "metadata": {},
   "source": [
    "#### Utilisons notre modèle entrainé pour faire des prédiction sur les images de test\n",
    "#### TODO! écrire le code qui charge des photos du nouveau dossier, img_test, qui n'a pas été utilisé pour l'entrainement!"
   ]
  },
  {
   "cell_type": "code",
   "execution_count": null,
   "metadata": {},
   "outputs": [],
   "source": [
    "# afficher l'image\n",
    "(X_test,Y_test) = create_data_set(testfolder)   \n",
    "array_to_img(X_test[5])"
   ]
  },
  {
   "cell_type": "code",
   "execution_count": null,
   "metadata": {},
   "outputs": [],
   "source": [
    "custom_model.predict(X_test[5].reshape(1, *X_test[5].shape))"
   ]
  },
  {
   "cell_type": "code",
   "execution_count": null,
   "metadata": {},
   "outputs": [],
   "source": [
    "# vraie valeur (\"bonne réponse\")\n",
    "Y_test[1]"
   ]
  },
  {
   "cell_type": "markdown",
   "metadata": {},
   "source": [
    "# Projet\n",
    "1. Trouver le sujet de classification d'images\n",
    "2. Créer le jeu de données:\n",
    "    * Télécharger les images de l'Internet\n",
    "    * Utiliser le plugin de navigateur pour aller plus vite:\n",
    "    * Saisir la requete sur Google Images (par exemple)\n",
    "    * Cliquer sur \"Download All Images\" (le plugin du navigateur)\n",
    "    * Dézipper le fichier téléchargé\n",
    "    * Récupérer seulement des images pertinentes\n",
    "    * Mettre ces images dans votre arboscence:\n",
    "        \"img/<nom_de_l_equipe>/<un_dossier_par_catégorie>/*.png\"\n",
    "    * Créer des matrices X et Y à partir des images:\n",
    "        * itérateur sur les dossiers et les images;\n",
    "        * chargement des images;\n",
    "        * preprocessing lié à VGG16 (ou autre modèle CNN préentrainé que vous allez utiliser);\n",
    "        * création du numpy.array finale depuis la liste des images chargés et prétraités;\n",
    "        * création du vecteur de \"labels\" à partir des noms de dossiers parcourus, pour chaque image (\"adidas adidas adidas cocacola cocacola fdj fdj fdj fdj ....\");\n",
    "        * conversion du vecteur 1-dimensionnel de labels en vecteur M-dimensionnel, où M = nombre de catégories de votre problème: pour cela, utiliser la fonction *to_categorical*. Chaque label doit donc être un vecteur avec des 0.0 et une seule valeur 1.0 sur la position qui correspond à la bonne catégorie.\n",
    "        \n",
    "3. Utiliser un des modèles CNN (convolutional neural network) déjà entrainé (comme VGG ou autre, cf. ici https://keras.io/applications/) pour faire des prédictions sur quelques images de votre dataset. Utiliser \"decode_predictions\" pour afficher à quelles classes appartient des valeurs maximales du vecteur de prédiction\n",
    "\n",
    "* Comme votre use case est spécifique, et les classes présentes dans le modèle VGG ne correspondent pas à votre problème. Il faut donc faire du Transfer Learning:\n",
    "    * Prendre un modèle pré-entrainé (VGG par exemple), mais ne pas utiliser sa dernière couche! (include_top=False). Ne pas oublier de spécifier le format des images en entrée ((224, 224, 3) pour VGG). \n",
    "    * Ajouter une couche Flatten() pour aplaitir la matrice pour obtenir le vecteur 1-dimensionnel.\n",
    "    * Ajouter une couche Dense(nb_classes, activation=\"softmax\")\n",
    "    * Créer un modele *custom* qui va utiliser ces couches-là.\n",
    "    * Comme le modèle VGG sera en version \"cut\" (\"truncated\"), donc elle ne sera pas utilisé pour les prédictions mais seulement pour extraction de features. Donc, il faut préciser que les couches du modèle custom soit déclarés comme \"layer.trainable = False\". Utiliser l'itérateur sur \"custom_model.layers\" afin de préciser quelles couches ne pas entrainer.\n",
    "    * Vérifier avec \"custom_model.summary()\" que seulement les paramètres qui correspondent à la dernière couche Dense seront entrainés (cf. les messages \"Total parameters, Trainable parameters, Non-Trainable parameters\" du summary.\n",
    "    * Déclarer la méthod de \"compilation\" du modèle (fonction de perte, algorithme, métrique) avec \"custom_model.compile(....)\"\n",
    "    * Finalement, ENTRAINER le modèle avec la commande \"custom_modèle.fit\". Utiliser plusieurs nombre de *epochs* (plus est mieux, quitte à laisser le modèle s'entrainer pendant plusieurs heures); varier le *batch_size* en fonction de nombre totale d'images dans votre dataset (batch_size plus élevé accélère l'entrainement mais dégrade le résultat; par contre valeur 1 risque de finir par le \"overfit\", \"surapprentissage\", où le modèle va apprendre par coeur des exemple, mais mal généraliser sur des nouvelles images, donc le score sera mauvais aussi. Trouver la bonne valeur de batch_size, commenter les étapes de votre expérimentation.\n",
    "    \n",
    "    \n",
    "* Charger des images depuis le dossier \"img/test_images\", utiliser le même prétraitement afin d'avoir le même format que des matrices X (pas besoin de Y ici, car vous allez juste lancer des prédictions).\n",
    "* Lancer des prédictions sur ces nouvelles images (custom_model.predict).\n",
    "* Interpréter des prédictions. Quelle catégorie donne la proba maximale?  Afficher l'image dans notebook pour voir ce qu'elle représente. Est-ce que c'est la bonne catégorie qui a été prédite?\n",
    "\n",
    "\n",
    "#### Faire un résumé du projet: qu'est-ce que vous avez fait, quels résultats obtenus. Quel score a votre modèle, est-ce qu'elle prédit bien sur des images de test.\n",
    "#### Commentez votre code!!! \n",
    "    \n",
    "### livrables: GITHUB!!! code + images, la même arborescence que dl \n",
    "### denis.lazarenko@gmail.com\n",
    "~~deadline: 3 mars 2019 , 23:59:59~~\n",
    "\n",
    "désolé d'avoir envoyé une mauvaise version du fichier vendredi dernier\n",
    "\n",
    "on va donc avancer la deadline\n",
    "### deadline: 10 mars 2019 , 23:59:59\n",
    "### questions  par mail ou slack\n",
    "\n",
    "\n",
    "#### Liens utils\n",
    "* training Keras models: \n",
    "  https://keras.io/getting-started/sequential-model-guide/\n",
    "* deep learning tutorial: https://machinelearningmastery.com/use-pre-trained-vgg-model-classify-objects-photographs/\n",
    "* convolution filter produces a feature map (animation): https://www.youtube.com/watch?v=KiftWz544_8"
   ]
  },
  {
   "cell_type": "code",
   "execution_count": null,
   "metadata": {},
   "outputs": [],
   "source": []
  }
 ],
 "metadata": {
  "kernelspec": {
   "display_name": "Python 3",
   "language": "python",
   "name": "python3"
  },
  "language_info": {
   "codemirror_mode": {
    "name": "ipython",
    "version": 3
   },
   "file_extension": ".py",
   "mimetype": "text/x-python",
   "name": "python",
   "nbconvert_exporter": "python",
   "pygments_lexer": "ipython3",
   "version": "3.6.1"
  }
 },
 "nbformat": 4,
 "nbformat_minor": 2
}
